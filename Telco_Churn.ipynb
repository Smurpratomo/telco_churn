{
 "cells": [
  {
   "cell_type": "code",
   "execution_count": 58,
   "metadata": {},
   "outputs": [],
   "source": [
    "import pandas as pd\n",
    "import seaborn as sns\n",
    "import matplotlib.pyplot as plt\n",
    "import numpy as np\n",
    "from sklearn.compose import ColumnTransformer\n",
    "from sklearn.preprocessing import OneHotEncoder,LabelEncoder,StandardScaler, MinMaxScaler \n",
    "from sklearn.model_selection import train_test_split\n",
    "from sklearn.linear_model import LogisticRegression,LinearRegression\n",
    "from sklearn.tree import DecisionTreeClassifier\n",
    "from sklearn.ensemble import RandomForestClassifier, ExtraTreesClassifier\n",
    "from sklearn.neighbors import KNeighborsClassifier\n",
    "from sklearn.metrics import accuracy_score,confusion_matrix,plot_confusion_matrix\n",
    "import warnings\n",
    "warnings.filterwarnings(\"ignore\")\n",
    "\n",
    "\n",
    "\n"
   ]
  },
  {
   "cell_type": "code",
   "execution_count": 59,
   "metadata": {},
   "outputs": [],
   "source": [
    "data= pd.read_csv('https://dqlab-dataset.s3-ap-southeast-1.amazonaws.com/dqlab_telco.csv')\n",
    "#data.head()"
   ]
  },
  {
   "cell_type": "code",
   "execution_count": 60,
   "metadata": {},
   "outputs": [
    {
     "name": "stdout",
     "output_type": "stream",
     "text": [
      "Number of row = 7113\n",
      "Number of column = 22\n"
     ]
    }
   ],
   "source": [
    "print('Number of row = {}'.format(data.shape[0]))\n",
    "print('Number of column = {}'.format(data.shape[1]))"
   ]
  },
  {
   "cell_type": "code",
   "execution_count": 61,
   "metadata": {},
   "outputs": [],
   "source": [
    "data=data.sort_values('UpdatedAt',ascending=False).drop_duplicates('customerID')\n",
    "data['valid']=data['customerID'].astype(str).str.match(r'(45\\d{9,10})')\n",
    "data = (data[data['valid'] == True]).drop('valid', axis = 1)\n",
    "#print(data.head())"
   ]
  },
  {
   "cell_type": "code",
   "execution_count": 62,
   "metadata": {},
   "outputs": [
    {
     "data": {
      "text/plain": [
       "UpdatedAt            0\n",
       "customerID           0\n",
       "gender               0\n",
       "SeniorCitizen        0\n",
       "Partner              0\n",
       "Dependents           0\n",
       "tenure              99\n",
       "PhoneService         0\n",
       "MultipleLines        0\n",
       "InternetService      0\n",
       "OnlineSecurity       0\n",
       "OnlineBackup         0\n",
       "DeviceProtection     0\n",
       "TechSupport          0\n",
       "StreamingTV          0\n",
       "StreamingMovies      0\n",
       "Contract             0\n",
       "PaperlessBilling     0\n",
       "PaymentMethod        0\n",
       "MonthlyCharges      26\n",
       "TotalCharges        15\n",
       "Churn               43\n",
       "dtype: int64"
      ]
     },
     "execution_count": 62,
     "metadata": {},
     "output_type": "execute_result"
    }
   ],
   "source": [
    "data.isna().sum()"
   ]
  },
  {
   "cell_type": "code",
   "execution_count": 63,
   "metadata": {},
   "outputs": [
    {
     "name": "stdout",
     "output_type": "stream",
     "text": [
      "Number of row = 6810\n",
      "Number of column = 20\n"
     ]
    }
   ],
   "source": [
    "data=data.dropna(subset=['Churn','MonthlyCharges','TotalCharges','tenure'], how='any')\n",
    "data_filtered=data.drop(columns=['UpdatedAt','customerID'], axis=1)\n",
    "print('Number of row = {}'.format(data_filtered.shape[0]))\n",
    "print('Number of column = {}'.format(data_filtered.shape[1]))"
   ]
  },
  {
   "cell_type": "code",
   "execution_count": 64,
   "metadata": {},
   "outputs": [
    {
     "data": {
      "text/plain": [
       "gender               object\n",
       "SeniorCitizen         int64\n",
       "Partner              object\n",
       "Dependents           object\n",
       "tenure              float64\n",
       "PhoneService         object\n",
       "MultipleLines        object\n",
       "InternetService      object\n",
       "OnlineSecurity       object\n",
       "OnlineBackup         object\n",
       "DeviceProtection     object\n",
       "TechSupport          object\n",
       "StreamingTV          object\n",
       "StreamingMovies      object\n",
       "Contract             object\n",
       "PaperlessBilling     object\n",
       "PaymentMethod        object\n",
       "MonthlyCharges      float64\n",
       "TotalCharges        float64\n",
       "Churn                object\n",
       "dtype: object"
      ]
     },
     "execution_count": 64,
     "metadata": {},
     "output_type": "execute_result"
    }
   ],
   "source": [
    "data_filtered.dtypes\n"
   ]
  },
  {
   "cell_type": "code",
   "execution_count": 65,
   "metadata": {},
   "outputs": [],
   "source": [
    "data_filtered.SeniorCitizen=data['SeniorCitizen'].astype(str)"
   ]
  },
  {
   "cell_type": "code",
   "execution_count": 66,
   "metadata": {},
   "outputs": [
    {
     "data": {
      "text/plain": [
       "['gender',\n",
       " 'SeniorCitizen',\n",
       " 'Partner',\n",
       " 'Dependents',\n",
       " 'tenure',\n",
       " 'PhoneService',\n",
       " 'MultipleLines',\n",
       " 'InternetService',\n",
       " 'OnlineSecurity',\n",
       " 'OnlineBackup',\n",
       " 'DeviceProtection',\n",
       " 'TechSupport',\n",
       " 'StreamingTV',\n",
       " 'StreamingMovies',\n",
       " 'Contract',\n",
       " 'PaperlessBilling',\n",
       " 'PaymentMethod',\n",
       " 'MonthlyCharges',\n",
       " 'TotalCharges',\n",
       " 'Churn']"
      ]
     },
     "execution_count": 66,
     "metadata": {},
     "output_type": "execute_result"
    }
   ],
   "source": [
    "data_filtered.columns.to_list()"
   ]
  },
  {
   "cell_type": "code",
   "execution_count": 67,
   "metadata": {},
   "outputs": [
    {
     "name": "stdout",
     "output_type": "stream",
     "text": [
      "gender : ['Female' 'Male' 'Laki-Laki' 'Wanita']\n",
      "SeniorCitizen : ['0' '1']\n",
      "Partner : ['Yes' 'No']\n",
      "Dependents : ['No' 'Yes' 'Iya']\n",
      "tenure : [  1.  12.  64.  56.  72.  15.  24.   5.  44.  39.  71.   2.  19.  31.\n",
      "  69.  46.  60.  50.  34.  35.  36.   3.   6.  37.  58.  66.  22.  33.\n",
      "  68.   4.  23.   9.  20.  25.  10.  70.  27.  18.  43.  26.  13.  51.\n",
      "  67.  38.  65.  32.  49.  16.  54.  21.  59.  52.  53.  41.   7.  57.\n",
      "   8.  28.  30.  48.  63.  55.  62.  61.  17.  29.  45.  42.  40.  14.\n",
      "  47. 500.]\n",
      "PhoneService : ['No' 'Yes']\n",
      "MultipleLines : ['No phone service' 'No' 'Yes']\n",
      "InternetService : ['DSL' 'Fiber optic' 'No']\n",
      "OnlineSecurity : ['No' 'Yes' 'No internet service']\n",
      "OnlineBackup : ['Yes' 'No internet service' 'No']\n",
      "DeviceProtection : ['No' 'Yes' 'No internet service']\n",
      "TechSupport : ['No' 'No internet service' 'Yes']\n",
      "StreamingTV : ['No' 'No internet service' 'Yes']\n",
      "StreamingMovies : ['No' 'No internet service' 'Yes']\n",
      "Contract : ['Month-to-month' 'Two year' 'One year']\n",
      "PaperlessBilling : ['Yes' 'No']\n",
      "PaymentMethod : ['Electronic check' 'Bank transfer (automatic)' 'Credit card (automatic)'\n",
      " 'Mailed check']\n",
      "MonthlyCharges : [ 29.85  84.6   20.05 ...  46.1  117.15 112.55]\n",
      "TotalCharges : [  29.85  959.9  1198.05 ... 8529.5  6549.45 7806.5 ]\n",
      "Churn : ['No' 'Yes' 'Churn']\n"
     ]
    }
   ],
   "source": [
    "for col in data_filtered.columns:\n",
    "    print(col,':',data_filtered[col].unique())"
   ]
  },
  {
   "cell_type": "code",
   "execution_count": 68,
   "metadata": {},
   "outputs": [],
   "source": [
    "data_filtered= data_filtered.replace(['Wanita','Laki-Laki','Churn','Iya','No phone service','No internet service','0','1'],\n",
    "                                     ['Female','Male','Yes','Yes','No','No','No','Yes'])"
   ]
  },
  {
   "cell_type": "code",
   "execution_count": 69,
   "metadata": {},
   "outputs": [
    {
     "data": {
      "image/png": "[encoded data removed]",
      "text/plain": [
       "<Figure size 432x288 with 3 Axes>"
      ]
     },
     "metadata": {},
     "output_type": "display_data"
    }
   ],
   "source": [
    "num_features=['MonthlyCharges','TotalCharges','tenure']\n",
    "for i, feature in enumerate(num_features,1):    \n",
    "    plt.subplot(1, 3,i)\n",
    "    plt.boxplot(data_filtered[feature], vert=0)\n",
    "    plt.xlabel('Outliers in {}'.format(feature), size=6, labelpad=4) \n",
    "\n",
    "    \n",
    "plt.subplots_adjust(right=2.5, top=3)\n",
    "  \n",
    "plt.tick_params(axis='x', labelsize=4)\n",
    "   \n",
    "\n",
    "plt.show()"
   ]
  },
  {
   "cell_type": "code",
   "execution_count": 70,
   "metadata": {},
   "outputs": [],
   "source": [
    "# Handling with IQR\n",
    "Q1 = (data_filtered[['tenure','MonthlyCharges','TotalCharges']]).quantile(0.25)\n",
    "Q3 = (data_filtered[['tenure','MonthlyCharges','TotalCharges']]).quantile(0.75)\n",
    "\n",
    "IQR = Q3 - Q1\n",
    "maximum = Q3 + (1.5*IQR)\n",
    "minimum = Q1 - (1.5*IQR)\n",
    "\n",
    "more_than = (data_filtered> maximum)\n",
    "lower_than = (data_filtered < minimum)\n",
    "data_filtered = data_filtered.mask(more_than, maximum, axis=1)\n",
    "data_filtered = data_filtered.mask(lower_than, minimum, axis=1)"
   ]
  },
  {
   "cell_type": "code",
   "execution_count": 71,
   "metadata": {},
   "outputs": [],
   "source": [
    "target=data_filtered['Churn'].copy()\n",
    "data_filtered=data_filtered.drop(columns='Churn',axis=1)"
   ]
  },
  {
   "cell_type": "code",
   "execution_count": 72,
   "metadata": {},
   "outputs": [
    {
     "data": {
      "text/plain": [
       "<matplotlib.axes._subplots.AxesSubplot at 0xb7a5450760>"
      ]
     },
     "execution_count": 72,
     "metadata": {},
     "output_type": "execute_result"
    },
    {
     "data": {
      "image/png": "[encoded data removed]",
      "text/plain": [
       "<Figure size 432x288 with 1 Axes>"
      ]
     },
     "metadata": {},
     "output_type": "display_data"
    }
   ],
   "source": [
    "sns.countplot(x=target)"
   ]
  },
  {
   "cell_type": "code",
   "execution_count": 73,
   "metadata": {},
   "outputs": [],
   "source": [
    "#Define column group with same processing\n",
    "ord_features=['gender','Partner','SeniorCitizen','Dependents','PhoneService','PaperlessBilling','MultipleLines',\n",
    "              'OnlineSecurity','OnlineBackup', 'DeviceProtection','TechSupport','StreamingTV','StreamingMovies']\n",
    "num_features=['MonthlyCharges','TotalCharges','tenure']\n",
    "nom_features=['Contract','PaymentMethod','InternetService']\n",
    "\n",
    "#\n",
    "ord_transform=LabelEncoder()\n",
    "num_transform=StandardScaler()\n",
    "nom_transform=OneHotEncoder()\n",
    "\n",
    "for col in ord_features:\n",
    "    data_filtered[col] = ord_transform.fit_transform(data_filtered[col])\n",
    "\n",
    "preprocessor=ColumnTransformer(transformers=[\n",
    "        ('num', num_transform, num_features),\n",
    "        ('nom',nom_transform, nom_features)],\n",
    "        remainder='passthrough')"
   ]
  },
  {
   "cell_type": "code",
   "execution_count": 74,
   "metadata": {},
   "outputs": [],
   "source": [
    "X=data_filtered\n",
    "y=target\n",
    "\n",
    "X_train, X_test, y_train, y_test = train_test_split(X, y, test_size=0.2,random_state=1)"
   ]
  },
  {
   "cell_type": "code",
   "execution_count": 75,
   "metadata": {},
   "outputs": [],
   "source": [
    "# Fit the pipeline on the training set and then transform the training and test set\n",
    "preprocessor.fit(X_train)\n",
    "X_train=preprocessor.transform(X_train)\n",
    "X_test = preprocessor.transform(X_test)\n"
   ]
  },
  {
   "cell_type": "code",
   "execution_count": 76,
   "metadata": {},
   "outputs": [],
   "source": [
    "LE=LabelEncoder()\n",
    "LE.fit(y_train)\n",
    "y_train=LE.transform(y_train)\n",
    "y_test=LE.transform(y_test)"
   ]
  },
  {
   "cell_type": "code",
   "execution_count": 77,
   "metadata": {},
   "outputs": [],
   "source": [
    "table_score = pd.DataFrame(columns=[\"Machine_Learning\", \"test_score\"])\n",
    "\n",
    "row_index = 0"
   ]
  },
  {
   "cell_type": "code",
   "execution_count": 78,
   "metadata": {},
   "outputs": [],
   "source": [
    "Machine_Learning=[\n",
    "                  ExtraTreesClassifier(),\n",
    "                  DecisionTreeClassifier(),\n",
    "                  RandomForestClassifier(),\n",
    "                  KNeighborsClassifier()]\n",
    "\n",
    "\n",
    "for i in Machine_Learning:\n",
    "    i.fit(X_train, y_train)\n",
    "    y_pred = i.predict(X_test)\n",
    "    table_score.loc[row_index, 'test_score'] = accuracy_score(y_test, y_pred)\n",
    "    table_score.loc[row_index, 'Machine_Learning'] = i\n",
    "    row_index+=1\n",
    "\n"
   ]
  },
  {
   "cell_type": "code",
   "execution_count": 79,
   "metadata": {},
   "outputs": [
    {
     "data": {
      "text/html": [
       "<div>\n",
       "<style scoped>\n",
       "    .dataframe tbody tr th:only-of-type {\n",
       "        vertical-align: middle;\n",
       "    }\n",
       "\n",
       "    .dataframe tbody tr th {\n",
       "        vertical-align: top;\n",
       "    }\n",
       "\n",
       "    .dataframe thead th {\n",
       "        text-align: right;\n",
       "    }\n",
       "</style>\n",
       "<table border=\"1\" class=\"dataframe\">\n",
       "  <thead>\n",
       "    <tr style=\"text-align: right;\">\n",
       "      <th></th>\n",
       "      <th>Machine_Learning</th>\n",
       "      <th>test_score</th>\n",
       "    </tr>\n",
       "  </thead>\n",
       "  <tbody>\n",
       "    <tr>\n",
       "      <th>2</th>\n",
       "      <td>(DecisionTreeClassifier(max_features='auto', r...</td>\n",
       "      <td>0.784875</td>\n",
       "    </tr>\n",
       "    <tr>\n",
       "      <th>0</th>\n",
       "      <td>(ExtraTreeClassifier(random_state=167624276), ...</td>\n",
       "      <td>0.777533</td>\n",
       "    </tr>\n",
       "    <tr>\n",
       "      <th>3</th>\n",
       "      <td>KNeighborsClassifier()</td>\n",
       "      <td>0.772394</td>\n",
       "    </tr>\n",
       "    <tr>\n",
       "      <th>1</th>\n",
       "      <td>DecisionTreeClassifier()</td>\n",
       "      <td>0.725404</td>\n",
       "    </tr>\n",
       "  </tbody>\n",
       "</table>\n",
       "</div>"
      ],
      "text/plain": [
       "                                    Machine_Learning test_score\n",
       "2  (DecisionTreeClassifier(max_features='auto', r...   0.784875\n",
       "0  (ExtraTreeClassifier(random_state=167624276), ...   0.777533\n",
       "3                             KNeighborsClassifier()   0.772394\n",
       "1                           DecisionTreeClassifier()   0.725404"
      ]
     },
     "execution_count": 79,
     "metadata": {},
     "output_type": "execute_result"
    }
   ],
   "source": [
    "# Display the results table, sorted in descending order\n",
    "table_score = table_score.sort_values(by='test_score', ascending=False)\n",
    "table_score"
   ]
  },
  {
   "cell_type": "code",
   "execution_count": 80,
   "metadata": {},
   "outputs": [
    {
     "data": {
      "text/plain": [
       "<matplotlib.axes._subplots.AxesSubplot at 0xb799ee52b0>"
      ]
     },
     "execution_count": 80,
     "metadata": {},
     "output_type": "execute_result"
    },
    {
     "data": {
      "image/png": "[encoded data removed]",
      "text/plain": [
       "<Figure size 432x288 with 2 Axes>"
      ]
     },
     "metadata": {},
     "output_type": "display_data"
    }
   ],
   "source": [
    "#Confussion matrix for the highest which is DecisionTreeClassifier\n",
    "cm=confusion_matrix(y_test,y_pred)\n",
    "sns.set(font_scale=1.4) # for label size\n",
    "sns.heatmap(cm/np.sum(cm), annot=True, annot_kws={\"size\": 16}) # font size"
   ]
  }
 ],
 "metadata": {
  "kernelspec": {
   "display_name": "Python 3",
   "language": "python",
   "name": "python3"
  },
  "language_info": {
   "codemirror_mode": {
    "name": "ipython",
    "version": 3
   },
   "file_extension": ".py",
   "mimetype": "text/x-python",
   "name": "python",
   "nbconvert_exporter": "python",
   "pygments_lexer": "ipython3",
   "version": "3.8.3"
  }
 },
 "nbformat": 4,
 "nbformat_minor": 4
}
